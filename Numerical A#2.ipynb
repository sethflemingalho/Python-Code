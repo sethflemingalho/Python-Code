{
 "cells": [
  {
   "cell_type": "code",
   "execution_count": 1,
   "metadata": {},
   "outputs": [],
   "source": [
    "from sympy import *\n",
    "import matplotlib.pyplot as plt\n",
    "import numpy as np"
   ]
  },
  {
   "cell_type": "code",
   "execution_count": 2,
   "metadata": {},
   "outputs": [
    {
     "data": {
      "text/latex": [
       "$\\displaystyle \\frac{1}{\\sqrt{x^{2} - 2 x \\cos{\\left(\\theta \\right)} + 1}}$"
      ],
      "text/plain": [
       "1/sqrt(x**2 - 2*x*cos(theta) + 1)"
      ]
     },
     "execution_count": 2,
     "metadata": {},
     "output_type": "execute_result"
    }
   ],
   "source": [
    "x, r, R, theta, mu, G, M, g = symbols('x r R theta mu G M g')\n",
    "n = symbols('n', integer=True)\n",
    "f, genfun, phi = symbols('f genfun phi', cls=Function)\n",
    "\n",
    "genfun = 1/sqrt(1+x**2-2*x*cos(theta))\n",
    "genfun"
   ]
  },
  {
   "cell_type": "code",
   "execution_count": 3,
   "metadata": {},
   "outputs": [
    {
     "data": {
      "text/latex": [
       "$\\displaystyle 1 + x \\cos{\\left(\\theta \\right)} + x^{2} \\left(\\frac{3 \\cos^{2}{\\left(\\theta \\right)}}{2} - \\frac{1}{2}\\right) + x^{3} \\left(\\frac{5 \\cos^{3}{\\left(\\theta \\right)}}{2} - \\frac{3 \\cos{\\left(\\theta \\right)}}{2}\\right) + O\\left(x^{4}\\right)$"
      ],
      "text/plain": [
       "1 + x*cos(theta) + x**2*(3*cos(theta)**2/2 - 1/2) + x**3*(5*cos(theta)**3/2 - 3*cos(theta)/2) + O(x**4)"
      ]
     },
     "execution_count": 3,
     "metadata": {},
     "output_type": "execute_result"
    }
   ],
   "source": [
    "genfun.series(x,0,4)"
   ]
  },
  {
   "cell_type": "code",
   "execution_count": 4,
   "metadata": {},
   "outputs": [
    {
     "data": {
      "text/latex": [
       "$\\displaystyle \\frac{\\pi x^{2}}{4} + \\pi$"
      ],
      "text/plain": [
       "pi*x**2/4 + pi"
      ]
     },
     "execution_count": 4,
     "metadata": {},
     "output_type": "execute_result"
    }
   ],
   "source": [
    "getfunc_trunc = (genfun.series(x,0,4)).removeO()\n",
    "getfunc_trunc\n",
    "coeff = [getfunc_trunc.coeff(x,i).factor() for i in range(4)]\n",
    "coeff\n",
    "integral = integrate(getfunc_trunc, (theta,0,pi))\n",
    "integral\n"
   ]
  },
  {
   "cell_type": "code",
   "execution_count": 5,
   "metadata": {},
   "outputs": [
    {
     "data": {
      "text/latex": [
       "$\\displaystyle - 2 G \\mu \\left(\\frac{\\pi x^{2}}{4} + \\pi\\right)$"
      ],
      "text/plain": [
       "-2*G*mu*(pi*x**2/4 + pi)"
      ]
     },
     "execution_count": 5,
     "metadata": {},
     "output_type": "execute_result"
    }
   ],
   "source": [
    "phi = -2*mu*G*integral\n",
    "phi"
   ]
  },
  {
   "cell_type": "code",
   "execution_count": 6,
   "metadata": {},
   "outputs": [
    {
     "name": "stdout",
     "output_type": "stream",
     "text": [
      "The gravitational potential of the ring is\n"
     ]
    },
    {
     "data": {
      "text/latex": [
       "$\\displaystyle - \\frac{G M \\left(\\frac{\\pi x^{2}}{4} + \\pi\\right)}{\\pi R}$"
      ],
      "text/plain": [
       "-G*M*(pi*x**2/4 + pi)/(pi*R)"
      ]
     },
     "execution_count": 6,
     "metadata": {},
     "output_type": "execute_result"
    }
   ],
   "source": [
    "f = phi.subs({mu:M/(2*pi*R)})\n",
    "print (\"The gravitational potential of the ring is\")\n",
    "f"
   ]
  },
  {
   "cell_type": "code",
   "execution_count": 7,
   "metadata": {},
   "outputs": [
    {
     "data": {
      "text/latex": [
       "$\\displaystyle - \\frac{G M \\left(4 R^{2} + r^{2}\\right)}{4 R^{3}}$"
      ],
      "text/plain": [
       "-G*M*(4*R**2 + r**2)/(4*R**3)"
      ]
     },
     "execution_count": 7,
     "metadata": {},
     "output_type": "execute_result"
    }
   ],
   "source": [
    "phi_r = (f.subs({x:(r/R)})).simplify()\n",
    "phi_r"
   ]
  },
  {
   "cell_type": "code",
   "execution_count": 8,
   "metadata": {},
   "outputs": [
    {
     "name": "stdout",
     "output_type": "stream",
     "text": [
      "The gravitational potential of Jupiter's ring at Earth's orbit is -164411.065705455 SI units\n"
     ]
    }
   ],
   "source": [
    "RJ = 7.784e11  # radius of Jupiter's orbit in m\n",
    "MJ = 1.90e27   # Jupiter's mass in kg\n",
    "GN = 6.674e-11 # Newton's gravitational constant in SI units\n",
    "RE = 1.4964e11  # radius of Earth's orbit in m\n",
    "\n",
    "fJE = (f.subs({G:GN, M:MJ, R:RJ, x:(RE/RJ)})) # substituting the above values in the expression for f we found above\n",
    "print (\"The gravitational potential of Jupiter's ring\",\\\n",
    "       \"at Earth's orbit is\",fJE,\"SI units\")"
   ]
  },
  {
   "cell_type": "code",
   "execution_count": 9,
   "metadata": {},
   "outputs": [
    {
     "data": {
      "text/latex": [
       "$\\displaystyle \\frac{G M R}{2 r^{3}}$"
      ],
      "text/plain": [
       "G*M*R/(2*r**3)"
      ]
     },
     "execution_count": 9,
     "metadata": {},
     "output_type": "execute_result"
    }
   ],
   "source": [
    "# to find the gravitational acceleration along r\n",
    "# differentiate the last expression with respect to r  (recall that g is the gradient of the potential)\n",
    "# after substituting x=R/r into it\n",
    "g = ((f.subs({x:(R/r)}).diff(r))).simplify()\n",
    "g"
   ]
  },
  {
   "cell_type": "code",
   "execution_count": 10,
   "metadata": {},
   "outputs": [
    {
     "data": {
      "text/latex": [
       "$\\displaystyle \\frac{\\frac{\\pi x^{2}}{4} + \\pi}{\\pi x}$"
      ],
      "text/plain": [
       "(pi*x**2/4 + pi)/(pi*x)"
      ]
     },
     "execution_count": 10,
     "metadata": {},
     "output_type": "execute_result"
    }
   ],
   "source": [
    "# compute a dimensionless gravitational potential by\n",
    "# dividing f by the point-mass potential -GM/r  \n",
    "ff = f.subs({R:(r*x)})/(-G*M/r)\n",
    "ff"
   ]
  },
  {
   "cell_type": "code",
   "execution_count": 11,
   "metadata": {},
   "outputs": [
    {
     "data": {
      "text/plain": [
       "[<matplotlib.lines.Line2D at 0x2231899d6a0>]"
      ]
     },
     "execution_count": 11,
     "metadata": {},
     "output_type": "execute_result"
    },
    {
     "data": {
      "image/png": "[encoded data removed]",
      "text/plain": [
       "<Figure size 432x288 with 1 Axes>"
      ]
     },
     "metadata": {
      "needs_background": "light"
     },
     "output_type": "display_data"
    }
   ],
   "source": [
    "nn = 100\n",
    "xn = np.linspace(1e-2,1.,nn)  # From the edge of the ring to a 100 times the radius.\n",
    "yn = np.linspace(0,0,nn)\n",
    "for i in range(nn):\n",
    "    yn[i] = ff.subs({x:xn[i]})\n",
    "    \n",
    "plt.semilogx(xn,yn,'r')\n",
    "\n"
   ]
  },
  {
   "cell_type": "code",
   "execution_count": 17,
   "metadata": {},
   "outputs": [],
   "source": [
    "def Nphi(r,N2,G,M,R):\n",
    "    Nphi = 0.\n",
    "    x = r/R\n",
    "    a = np.pi/float(N2)\n",
    "    \n",
    "    for i in range(N2+1):\n",
    "        f = 2.\n",
    "        if i==0 or i == N2:\n",
    "            f = 1.\n",
    "        Nphi += f/np.sqrt(1+x**2-2*x*np.cos(i*a))\n",
    "    Nphi = -G*(M/float(2*N2)/R)*Nphi\n",
    "    return Nphi\n"
   ]
  },
  {
   "cell_type": "code",
   "execution_count": 18,
   "metadata": {},
   "outputs": [
    {
     "name": "stdout",
     "output_type": "stream",
     "text": [
      "phi n = -164446.9554708689\n",
      "phi n+1 = -164443.30168680983\n",
      "n = 8 points gives an accuracy of 0.0001\n"
     ]
    }
   ],
   "source": [
    "int2 = 1\n",
    "\n",
    "InitialPhiApp = Nphi(RE,int2,GN,MJ,RJ)\n",
    "int2 += 1\n",
    "\n",
    "phiApp = Nphi(RE,int2,GN,MJ,RJ)\n",
    "while abs((phiApp-InitialPhiApp)/phiApp) > 1e-4 and int2 < 200:\n",
    "    InitialPhiApp = phiApp\n",
    "    int2 += 1\n",
    "    phiApp = Nphi(RE,int2,GN,MJ,RJ)\n",
    "\n",
    "\n",
    "\n",
    "print (\"phi n =\",InitialPhiApp)\n",
    "print (\"phi n+1 =\",phiApp)\n",
    "print (\"n =\",2*int2, \"points gives an accuracy of 0.0001\")"
   ]
  },
  {
   "cell_type": "code",
   "execution_count": 19,
   "metadata": {},
   "outputs": [
    {
     "data": {
      "image/png": "[encoded data removed]",
      "text/plain": [
       "<Figure size 432x288 with 1 Axes>"
      ]
     },
     "metadata": {
      "needs_background": "light"
     },
     "output_type": "display_data"
    }
   ],
   "source": [
    "n = 4\n",
    "\n",
    "rplot = np.linspace(0,0.8,n)\n",
    "phiplot = np.linspace(0,0,n)\n",
    "phipoint = -GN*MJ/RJ\n",
    "\n",
    "\n",
    "for k in range(n):\n",
    "        phiplot[k] = Nphi(rplot[k]*RE,144,GN,MJ,RJ)/phipoint\n",
    "\n",
    "plt.plot(rplot,phiplot-phiplot[0],'r-',label='solution')\n",
    "\n",
    "plt.xlabel('Distance')\n",
    "plt.ylabel('Potential')\n",
    "\n",
    "plt.grid()\n",
    "plt.show()"
   ]
  },
  {
   "cell_type": "code",
   "execution_count": 21,
   "metadata": {},
   "outputs": [
    {
     "data": {
      "image/png": "[encoded data removed]",
      "text/plain": [
       "<Figure size 432x288 with 1 Axes>"
      ]
     },
     "metadata": {
      "needs_background": "light"
     },
     "output_type": "display_data"
    }
   ],
   "source": [
    "x = np.linspace(0,0,n) #r = 0\n",
    "y = np.linspace(0,0,n)\n",
    "\n",
    "for k in range(n):\n",
    "        x[k] = rplot[k]\n",
    "        y[k] = (phiplot[-1]-phiplot[0])*(rplot[k]/rplot[-1])**2\n",
    "\n",
    "plt.plot(x,y,'b--')\n",
    "plt.xlabel('Distance')\n",
    "plt.ylabel('Potential')\n",
    "\n",
    "plt.grid()\n",
    "plt.show()"
   ]
  },
  {
   "cell_type": "code",
   "execution_count": null,
   "metadata": {},
   "outputs": [],
   "source": []
  },
  {
   "cell_type": "code",
   "execution_count": null,
   "metadata": {},
   "outputs": [],
   "source": []
  }
 ],
 "metadata": {
  "kernelspec": {
   "display_name": "Python 3",
   "language": "python",
   "name": "python3"
  },
  "language_info": {
   "codemirror_mode": {
    "name": "ipython",
    "version": 3
   },
   "file_extension": ".py",
   "mimetype": "text/x-python",
   "name": "python",
   "nbconvert_exporter": "python",
   "pygments_lexer": "ipython3",
   "version": "3.8.3"
  }
 },
 "nbformat": 4,
 "nbformat_minor": 4
}
