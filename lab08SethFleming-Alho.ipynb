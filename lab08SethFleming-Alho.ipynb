{
 "cells": [
  {
   "cell_type": "markdown",
   "metadata": {},
   "source": [
    "## Phys 342 Lab 8\n",
    "\n",
    "This lab applies the least squares method to estimate parameters that are not linear model coefficients. As a result the goodness of fit test using the value of minimum $\\chi^2$ is not exact.\n",
    "\n",
    "Model: $E[V_i] = \\alpha t_i \\cos(\\beta t_i)$\n",
    "\n",
    "$V_i$ are gaussian distributed with standard deviation $\\sigma_i$. The data is generated using random numbers with a defined seed, so the results are reproducable, if the entire notebook is rerun (Kernel -> restart & run all)\n",
    "\n",
    "Some cells are missing code that needs to be added to complete the lab."
   ]
  },
  {
   "cell_type": "code",
   "execution_count": 1,
   "metadata": {},
   "outputs": [],
   "source": [
    "# cell #1: generic setup\n",
    "import numpy as np\n",
    "from scipy import stats, optimize\n",
    "%matplotlib inline\n",
    "import matplotlib.pyplot as plt"
   ]
  },
  {
   "cell_type": "code",
   "execution_count": 2,
   "metadata": {},
   "outputs": [],
   "source": [
    "# cell #2: define basic parameters, the model, and create a reference dataset \n",
    "\n",
    "#set the seed for random number generation, so the results are reproducable\n",
    "np.random.seed(seed=123456)\n",
    "\n",
    "# define the parameters of the problem\n",
    "n = 8 # number of data points\n",
    "trange = [0.,4.] # range within t_i values are drawn\n",
    "srange = [0.2,1.0] # corresponding range of sigma_i values\n",
    "a_true = 1.5 # true value for the parameter a\n",
    "b_true = 2.0 # true value for the parameter b\n",
    "\n",
    "# Our model:\n",
    "def model(a,b,t):\n",
    "    return a*t*np.cos(b*t)\n",
    "\n",
    "def get_data():\n",
    "    dt = (trange[1]-trange[0])/n # distance between t values\n",
    "    t = np.arange(trange[0]+dt,trange[1]+0.001,dt) # 0.001 added to ensure exactly n points in arange\n",
    "    sigma = (t-trange[0])/(trange[1]-trange[0])*(srange[1]-srange[0]) + srange[0]\n",
    "    v = model(a_true,b_true,t) + stats.norm.rvs(scale=sigma)\n",
    "    return t, v, sigma\n",
    "\n",
    "# Reference data:\n",
    "t, v, sigma = get_data()"
   ]
  },
  {
   "cell_type": "code",
   "execution_count": 3,
   "metadata": {},
   "outputs": [],
   "source": [
    "# cell #3: calculate chi^2 for particular choice of parameter values\n",
    "\n",
    "# input: args: [a,b]\n",
    "\n",
    "def chi2(args):\n",
    "    a = args[0]\n",
    "    b = args[1]\n",
    "    value =  np.sum((v - model(a,b,t))**2/sigma**2)# this is clearly incorrect - replace this line with the correct calculation using the data v,t\n",
    "    return value\n"
   ]
  },
  {
   "cell_type": "code",
   "execution_count": 4,
   "metadata": {},
   "outputs": [
    {
     "name": "stdout",
     "output_type": "stream",
     "text": [
      "Optimizer success = True\n",
      "Parameter estimates:\n",
      "  a-hat =  1.75 +/-  0.16\n",
      "  b-hat =  2.03 +/-  0.03\n",
      "Correlation coeff = -0.01\n",
      "chi^2 min =  3.13\n",
      "chi^2 true =  6.47\n"
     ]
    }
   ],
   "source": [
    "# cell #4: find best estimates for parameters using least squares for the reference dataset\n",
    "\n",
    "# start with a guess and find the parameters that minimize the chi2 function\n",
    "guess = [1.3,1.3]\n",
    "# the optimize.minimize method calls the chi2 function several times to find\n",
    "# parameters that produce the minimum value of that function \n",
    "# it starts from the parameters stored in guess\n",
    "\n",
    "result = optimize.minimize(chi2,guess)\n",
    "a_est = result.x[0]; b_est = result.x[1]\n",
    "\n",
    "# sometimes the optimizer will not succeed. In those cases, an alternative guess might help\n",
    "success = result.success\n",
    "\n",
    "# the one standard deviation uncertainties are estimated by the second derivatives of the function\n",
    "# since we are using chi2 instead of log-likelihood, factors of 2 needs to be included\n",
    "sig_a = np.sqrt(result.hess_inv[0,0]*2.)\n",
    "sig_b = np.sqrt(result.hess_inv[1,1]*2.)\n",
    "rho = result.hess_inv[0,1]*2./sig_a/sig_b\n",
    "\n",
    "print(\"Optimizer success =\",success)\n",
    "\n",
    "print(\"Parameter estimates:\")\n",
    "print(\"  a-hat = %5.2f +/- %5.2f\" %(result.x[0],sig_a))\n",
    "print(\"  b-hat = %5.2f +/- %5.2f\" %(result.x[1],sig_b))\n",
    "print(\"Correlation coeff = %5.2f\" %(rho))\n",
    "\n",
    "print(\"chi^2 min = %5.2f\" %(chi2([a_est,b_est])))\n",
    "print(\"chi^2 true = %5.2f\" %(chi2([a_true,b_true])))"
   ]
  },
  {
   "cell_type": "code",
   "execution_count": 5,
   "metadata": {},
   "outputs": [
    {
     "data": {
      "text/plain": [
       "<matplotlib.legend.Legend at 0x14359ed36d0>"
      ]
     },
     "execution_count": 5,
     "metadata": {},
     "output_type": "execute_result"
    },
    {
     "data": {
      "image/png": "[encoded data removed]",
      "text/plain": [
       "<Figure size 432x288 with 1 Axes>"
      ]
     },
     "metadata": {
      "needs_background": "light"
     },
     "output_type": "display_data"
    }
   ],
   "source": [
    "# cell #5: compare visually the data and the model\n",
    "\n",
    "fig, axes = plt.subplots()\n",
    "tarray = np.arange(trange[0],trange[1],0.02)\n",
    "varray = model(a_true,b_true,tarray)\n",
    "vfit = model(a_est,b_est,tarray)\n",
    "axes.plot(tarray,varray,label=\"truth\")\n",
    "axes.plot(tarray,vfit,label=\"fit\")\n",
    "axes.errorbar(t,v,yerr=sigma,marker='.',linestyle='none',label='data')\n",
    "plt.legend()"
   ]
  },
  {
   "cell_type": "code",
   "execution_count": 6,
   "metadata": {},
   "outputs": [],
   "source": [
    "# # cell #6: consider 1000 replications of the experiment\n",
    "\n",
    "# pull_a = []\n",
    "# pull_b = []\n",
    "\n",
    "# count = 0\n",
    "\n",
    "# while (count<1000):\n",
    "#     v, t, sigma = get_data()\n",
    "    \n",
    "#     # start with a guess and find the parameters that minimize the chi2 function\n",
    "#     guess = [1.3,1.3]\n",
    "\n",
    "\n",
    "#     result = optimize.minimize(chi2,guess)\n",
    "#     a_est = result.x[0]; b_est = result.x[1]\n",
    "\n",
    "# # sometimes the optimizer will not succeed. In those cases, an alternative guess might help\n",
    "#     success = result.success\n",
    "\n",
    "#     if success == True:\n",
    "    \n",
    "\n",
    "#         sig_a = np.sqrt(result.hess_inv[0,0]*2.)\n",
    "#         sig_b = np.sqrt(result.hess_inv[1,1]*2.)\n",
    "#         rho = result.hess_inv[0,1]*2./sig_a/sig_b\n",
    "        \n",
    "#         ahat = result.x[0]\n",
    "#         bhat = result.x[1]\n",
    "\n",
    "#         pull_a.append((ahat - a_true)/sig_a)\n",
    "#         pull_b.append((bhat - b_true)/sig_b)\n",
    "        \n",
    "        \n",
    "#         count = count+1\n",
    "\n",
    "\n",
    "\n",
    "\n",
    "\n",
    "\n"
   ]
  },
  {
   "cell_type": "code",
   "execution_count": 7,
   "metadata": {},
   "outputs": [],
   "source": [
    "# cell #6: consider 1000 replications of the experiment\n",
    "\n",
    "\n",
    "\n",
    "pull_a = []\n",
    "pull_b = []\n",
    "\n",
    "counter = 0\n",
    "while(counter < 1000):\n",
    "    t, v, sigma = get_data()\n",
    "    guess = [1.3,1.3]\n",
    "    result = optimize.minimize(chi2,guess)\n",
    "    a_est = result.x[0]; b_est = result.x[1]\n",
    "    success = result.success\n",
    "    if success == True:\n",
    "        sig_a = np.sqrt(result.hess_inv[0,0]*2.)\n",
    "        sig_b = np.sqrt(result.hess_inv[1,1]*2.)\n",
    "        rho = result.hess_inv[0,1]*2./sig_a/sig_b\n",
    "        ahat = result.x[0]\n",
    "        bhat = result.x[1]\n",
    "\n",
    "        pull_a.append((ahat-a_true)/sig_a)\n",
    "        pull_b.append((bhat-b_true)/sig_b)\n",
    "        \n",
    "        counter+=1"
   ]
  },
  {
   "cell_type": "code",
   "execution_count": 8,
   "metadata": {},
   "outputs": [
    {
     "name": "stdout",
     "output_type": "stream",
     "text": [
      "-0.041947650517365306\n",
      "2.0\n",
      "1.6463859680148856\n",
      "these values are close to 0 and 1 because the mean and stardard deviation are 0 and 1 respectively\n"
     ]
    }
   ],
   "source": [
    "print(np.mean(pull_a))\n",
    "len(pull_a)\n",
    "print(b_true)\n",
    "np.std(pull_a)\n",
    "print(ahat)\n",
    "print('these values are close to 0 and 1 because the mean and stardard deviation are 0 and 1 respectively')"
   ]
  },
  {
   "cell_type": "code",
   "execution_count": 9,
   "metadata": {},
   "outputs": [
    {
     "data": {
      "image/png": "[encoded data removed]",
      "text/plain": [
       "<Figure size 432x288 with 1 Axes>"
      ]
     },
     "metadata": {
      "needs_background": "light"
     },
     "output_type": "display_data"
    }
   ],
   "source": [
    "bins = 20\n",
    "\n",
    "x = np.linspace(-5,5,1000)\n",
    "\n",
    "a_pdf = stats.norm.pdf(x,loc=0,scale=1)\n",
    "\n",
    "\n",
    "\n",
    "   \n",
    "plt.hist(pull_a,bins=bins) \n",
    "plt.plot(x, a_pdf*(len(pull_a)*6)/bins)\n",
    "plt.title(\"Gaussian Distribution for Pull_A\")\n",
    "plt.xlabel(\"pull_a\")\n",
    "plt.ylabel(\"counts\")\n",
    "\n",
    "plt.show()\n",
    "\n",
    "\n",
    "\n",
    "# mean_a = np.sum(pull_a)/len(pull_a)\n",
    "# print(mean_a)\n",
    "\n",
    "\n"
   ]
  },
  {
   "cell_type": "code",
   "execution_count": 10,
   "metadata": {},
   "outputs": [
    {
     "data": {
      "image/png": "[encoded data removed]",
      "text/plain": [
       "<Figure size 432x288 with 1 Axes>"
      ]
     },
     "metadata": {
      "needs_background": "light"
     },
     "output_type": "display_data"
    }
   ],
   "source": [
    "#plot pull_b dist and standard gaussian\n",
    "\n",
    "x = np.linspace(-5,5,1000)\n",
    "\n",
    "b_pdf = stats.norm.pdf(x,loc=0,scale=1)\n",
    "\n",
    "plt.hist(pull_b,bins=bins)\n",
    "plt.plot(x,b_pdf*(len(pull_b)*6)/bins)\n",
    "plt.show()"
   ]
  },
  {
   "cell_type": "code",
   "execution_count": 11,
   "metadata": {},
   "outputs": [
    {
     "name": "stdout",
     "output_type": "stream",
     "text": [
      "Parameter estimates:\n",
      "  a-hat =  1.65 +/-  0.16\n",
      "  b-hat =  2.01 +/-  0.03\n",
      "Correlation coeff =  0.02\n",
      "chi^2 min =  8.63\n",
      "chi^2 true =  9.50\n"
     ]
    }
   ],
   "source": [
    "print(\"Parameter estimates:\")\n",
    "print(\"  a-hat = %5.2f +/- %5.2f\" %(result.x[0],sig_a))\n",
    "print(\"  b-hat = %5.2f +/- %5.2f\" %(result.x[1],sig_b))\n",
    "print(\"Correlation coeff = %5.2f\" %(rho))\n",
    "\n",
    "print(\"chi^2 min = %5.2f\" %(chi2([a_est,b_est])))\n",
    "print(\"chi^2 true = %5.2f\" %(chi2([a_true,b_true])))"
   ]
  },
  {
   "cell_type": "code",
   "execution_count": 12,
   "metadata": {},
   "outputs": [
    {
     "name": "stdout",
     "output_type": "stream",
     "text": [
      "the distributiuon will follow a chi squared when the sample size is suffeciently large\n"
     ]
    }
   ],
   "source": [
    "print(\"the distributiuon will follow a chi squared when the sample size is suffeciently large\")"
   ]
  },
  {
   "cell_type": "code",
   "execution_count": null,
   "metadata": {},
   "outputs": [],
   "source": []
  }
 ],
 "metadata": {
  "kernelspec": {
   "display_name": "Python 3",
   "language": "python",
   "name": "python3"
  },
  "language_info": {
   "codemirror_mode": {
    "name": "ipython",
    "version": 3
   },
   "file_extension": ".py",
   "mimetype": "text/x-python",
   "name": "python",
   "nbconvert_exporter": "python",
   "pygments_lexer": "ipython3",
   "version": "3.8.3"
  }
 },
 "nbformat": 4,
 "nbformat_minor": 4
}
