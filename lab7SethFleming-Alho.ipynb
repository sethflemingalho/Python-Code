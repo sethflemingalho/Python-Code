{
 "cells": [
  {
   "cell_type": "code",
   "execution_count": 1,
   "metadata": {},
   "outputs": [],
   "source": [
    "import numpy as np\n",
    "import matplotlib.pyplot as plt\n"
   ]
  },
  {
   "cell_type": "code",
   "execution_count": 2,
   "metadata": {},
   "outputs": [],
   "source": [
    "def H_o(a,t):\n",
    "    t = np.linspace(0,1,1000)\n",
    "    a = (4*np.e**4)/((np.e**4)-1)\n",
    "    r = a*np.e**(-4*t)\n",
    "    return r\n",
    "\n",
    "def H_1(t):\n",
    "   # t = np.linspace(0,1,1000)\n",
    "    f = 2*np.sin(np.pi*t)**2\n",
    "    return f\n",
    "\n",
    "tcutH_0 = 0.67 #value for integral >= 0.95\n",
    "tcutH_1 = 0.67\n",
    "a = (4*np.e**4)/((np.e**4)-1)\n",
    "t = np.linspace(0,1,100)\n",
    "bins = 20\n",
    "fbig = 2"
   ]
  },
  {
   "cell_type": "code",
   "execution_count": 3,
   "metadata": {},
   "outputs": [],
   "source": [
    "def nextValueForH0():\n",
    "    rand = np.random.rand()\n",
    "    #t = (-1/4)*np.log(-rand*4/a+1)\n",
    "    #t = (1/4)*np.log((4*np.e**4)/(((np.e**4)-1)*rand))\n",
    "    t = -np.log((-(np.exp(4)-1)*rand/np.exp(4)+1))/4\n",
    "    return t\n",
    "\n",
    "#H1 max value is 2 so fbig = 2\n",
    "def nextValueForH1():\n",
    "    attempt = False\n",
    "    while(not attempt):\n",
    "        randV = np.random.rand()\n",
    "        maximum = fbig*np.random.rand()\n",
    "        if (maximum < H_1(randV)):\n",
    "            return randV\n",
    "    \n",
    "    "
   ]
  },
  {
   "cell_type": "code",
   "execution_count": 4,
   "metadata": {},
   "outputs": [
    {
     "name": "stdout",
     "output_type": "stream",
     "text": [
      "There are 499 type 1 errors rejected at the 95% confidence level\n"
     ]
    }
   ],
   "source": [
    "err_1 = 0\n",
    "H0_Accepted = []\n",
    "\n",
    "\n",
    "for i in range(10000):\n",
    "    t = nextValueForH0()\n",
    "    \n",
    "    if(t > tcutH_0):\n",
    "        err_1 += 1\n",
    "        \n",
    "        \n",
    "    H0_Accepted.append(t)\n",
    "        \n",
    "print('There are', err_1, \"type 1 errors rejected at the 95% confidence level\")"
   ]
  },
  {
   "cell_type": "code",
   "execution_count": 5,
   "metadata": {},
   "outputs": [
    {
     "data": {
      "text/plain": [
       "Text(0.5, 1.0, 'Histogram for H_o')"
      ]
     },
     "execution_count": 5,
     "metadata": {},
     "output_type": "execute_result"
    },
    {
     "data": {
      "image/png": "[encoded data removed]",
      "text/plain": [
       "<Figure size 432x288 with 1 Axes>"
      ]
     },
     "metadata": {
      "needs_background": "light"
     },
     "output_type": "display_data"
    }
   ],
   "source": [
    "plt.hist(H0_Accepted,bins = np.arange(0,1,0.05))\n",
    "plt.xlim(0,1)\n",
    "x = np.linspace(0,1,1000)\n",
    "y = 10000*.05*a*np.exp(-4*x)\n",
    "plt.plot(x,y)\n",
    "plt.title('Histogram for H_o')"
   ]
  },
  {
   "cell_type": "code",
   "execution_count": 6,
   "metadata": {},
   "outputs": [
    {
     "name": "stdout",
     "output_type": "stream",
     "text": [
      "The number of rejections at the 95% confidence level and hence the number of type 2 errors is 8073\n"
     ]
    }
   ],
   "source": [
    "err_2 = 0\n",
    "H1_Accepted = []\n",
    "\n",
    "for i in range(10000):\n",
    "    t = nextValueForH1()\n",
    "    H1_Accepted.append(t)\n",
    "    if(t < tcutH_1):\n",
    "        err_2 += 1\n",
    "    \n",
    "        #H1_Accepted.append(t)\n",
    "print(\"The number of rejections at the 95% confidence level and hence the number of type 2 errors is\",err_2)\n"
   ]
  },
  {
   "cell_type": "code",
   "execution_count": 7,
   "metadata": {},
   "outputs": [
    {
     "name": "stdout",
     "output_type": "stream",
     "text": [
      "10000\n"
     ]
    },
    {
     "data": {
      "image/png": "[encoded data removed]",
      "text/plain": [
       "<Figure size 432x288 with 1 Axes>"
      ]
     },
     "metadata": {
      "needs_background": "light"
     },
     "output_type": "display_data"
    }
   ],
   "source": [
    "plt.hist(H1_Accepted,bins = np.arange(0,1,0.05))\n",
    "x1 = np.linspace(0,1,1000)\n",
    "y1 = 10000*0.05*H_1(x1)\n",
    "plt.plot(x1,y1)\n",
    "plt.title(\"Histogram for H_1 Accepted at 95% Confidence\")\n",
    "print(len(H1_Accepted))"
   ]
  },
  {
   "cell_type": "code",
   "execution_count": null,
   "metadata": {},
   "outputs": [],
   "source": []
  },
  {
   "cell_type": "code",
   "execution_count": null,
   "metadata": {},
   "outputs": [],
   "source": []
  },
  {
   "cell_type": "code",
   "execution_count": null,
   "metadata": {},
   "outputs": [],
   "source": []
  },
  {
   "cell_type": "code",
   "execution_count": null,
   "metadata": {},
   "outputs": [],
   "source": []
  }
 ],
 "metadata": {
  "kernelspec": {
   "display_name": "Python 3",
   "language": "python",
   "name": "python3"
  },
  "language_info": {
   "codemirror_mode": {
    "name": "ipython",
    "version": 3
   },
   "file_extension": ".py",
   "mimetype": "text/x-python",
   "name": "python",
   "nbconvert_exporter": "python",
   "pygments_lexer": "ipython3",
   "version": "3.8.3"
  }
 },
 "nbformat": 4,
 "nbformat_minor": 4
}
