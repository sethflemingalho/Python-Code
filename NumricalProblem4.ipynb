{
 "cells": [
  {
   "cell_type": "code",
   "execution_count": 1,
   "metadata": {},
   "outputs": [],
   "source": [
    "import numpy as np\n",
    "import matplotlib.pyplot as plt\n",
    "from scipy.integrate import odeint\n",
    "from scipy.interpolate import interp1d\n"
   ]
  },
  {
   "cell_type": "code",
   "execution_count": 2,
   "metadata": {},
   "outputs": [],
   "source": [
    "H = 15240\n",
    "V = 26.822\n",
    "mass = 100\n",
    "r = 0.2\n",
    "areaB = 4*np.pi*r**2\n"
   ]
  },
  {
   "cell_type": "code",
   "execution_count": 3,
   "metadata": {},
   "outputs": [],
   "source": [
    "# def dy_dt(y,t,m,n,vw):\n",
    "#     y1,y2,y3,y4 = y\n",
    "#     dydt = [y2, n*(y2+vw)*np.sqrt((y2+vw)**2+y4**2), y4,m+n*y4*np.sqrt((y2+vw)**2+y4**2)]\n",
    "#     return dydt\n",
    "# def dy_dt(y,time,m,n,vw):\n",
    "#     y1, y2, y3, y4 = y\n",
    "#     dydt = [y2, m*(y2+vw)*np.sqrt((y2+vw)**2+y4**2), y4,n+m*y4*np.sqrt((y2+vw)**2+y4**2)]\n",
    "#     return dydt\n",
    "\n",
    "def dy_dt(y, time, a, b, vw):\n",
    "    y1, y2, y3, y4 = y\n",
    "    dydt = [y2, b*(y2+vw)*np.sqrt((y2+vw)**2+y4**2), y4, a+b*y4*np.sqrt((y2+vw)**2+y4**2)]\n",
    "    return dydt"
   ]
  },
  {
   "cell_type": "code",
   "execution_count": 4,
   "metadata": {},
   "outputs": [],
   "source": [
    "# drag = 0.47\n",
    "# crossArea = np.pi*r**2\n",
    "# g = 9.81\n",
    "# ro = 1\n",
    "# m = -9.81\n",
    "# n = -(0.5*drag*ro*crossArea)/mass\n",
    "Cd = 0.47\n",
    "vsh = 80\n",
    "vw = 60*0.44704\n",
    "A = np.pi*r**2  # ball's cross-section area in m**2\n",
    "\n",
    "g = 9.8  # the gravitational accelation on the surface of Earth (in m/s**2)\n",
    "rhoa = 1.  # the air density (in kg/m**3)\n",
    "\n",
    "c2 = 0.5*Cd*rhoa*A\n",
    "\n",
    "# the coefficients in the ODEs\n",
    "a = -g\n",
    "b = -c2/mass"
   ]
  },
  {
   "cell_type": "code",
   "execution_count": 5,
   "metadata": {},
   "outputs": [],
   "source": [
    "#initial conditions\n",
    "\n",
    "ti = 0.\n",
    "tf =- 100.\n",
    "time = np.linspace(ti,tf,10000)\n",
    "velocity = np.linspace(79,82,10)\n",
    "y0 = [0.0,vsh,H,0]\n"
   ]
  },
  {
   "cell_type": "code",
   "execution_count": 6,
   "metadata": {},
   "outputs": [
    {
     "name": "stdout",
     "output_type": "stream",
     "text": [
      "79.0 0.0\n",
      "79.33333333333333 0.0\n",
      "79.66666666666667 0.0\n",
      "80.0 0.0\n",
      "80.33333333333333 0.0\n",
      "80.66666666666667 0.0\n",
      "81.0 0.0\n",
      "81.33333333333333 0.0\n",
      "81.66666666666667 0.0\n",
      "82.0 0.0\n"
     ]
    },
    {
     "name": "stderr",
     "output_type": "stream",
     "text": [
      "C:\\ProgramData\\Anaconda3\\lib\\site-packages\\scipy\\integrate\\odepack.py:247: ODEintWarning: Excess work done on this call (perhaps wrong Dfun type). Run with full_output = 1 to get quantitative information.\n",
      "  warnings.warn(warning_msg, ODEintWarning)\n"
     ]
    }
   ],
   "source": [
    "# for i in range(len(velocity)):\n",
    "#     vsh = velocity[i]\n",
    "    \n",
    "#     y0 = [0.0,vsh,H,0] # for x,vx,y,vy\n",
    "\n",
    "#     sol = odeint(dy_dt,y0,time,args=(a,b,vw))\n",
    "\n",
    "#     h = sol[1,2]\n",
    "#     k = 0\n",
    "#     while h > 0.:\n",
    "#         k += 1\n",
    "#         h = sol[k,2]\n",
    "    \n",
    "#     k = k+10\n",
    "#     fx = interp1d(sol[1:-1,2],sol[1:-1,0])\n",
    "#     ft  =interp1d(sol[1:-1,2],time[1:-1])\n",
    "#     x_h = ft(0)*vsh\n",
    "\n",
    "for ia in range (len(velocity)):\n",
    "    vsh = velocity[ia]\n",
    "    y0 = [0.0, vsh,H, 0]\n",
    "    sol = odeint(dy_dt, y0, time, args=(a, b, vw))\n",
    "    h = sol[1,2]\n",
    "    k = 0\n",
    "    while h > 0.:\n",
    "        k += 1\n",
    "        h = sol[k,2]\n",
    "    k = k+10\n",
    "    \n",
    "    fx = interp1d(sol[1:-1,2],sol[1:-1,0])\n",
    "    ft = interp1d(sol[1:-1,2],time[1:-1])\n",
    "    xsh = ft(0.)*vsh\n",
    "    print(velocity[ia],fx(0.))\n",
    "    \n",
    "\n",
    "\n"
   ]
  },
  {
   "cell_type": "code",
   "execution_count": 7,
   "metadata": {},
   "outputs": [],
   "source": [
    "sol = odeint(dy_dt,y0,time,args=(a,b,vw))"
   ]
  },
  {
   "cell_type": "code",
   "execution_count": 11,
   "metadata": {},
   "outputs": [
    {
     "data": {
      "text/plain": [
       "[<matplotlib.lines.Line2D at 0x276af5b43d0>]"
      ]
     },
     "execution_count": 11,
     "metadata": {},
     "output_type": "execute_result"
    },
    {
     "data": {
      "image/png": "[encoded data removed]",
      "text/plain": [
       "<Figure size 432x288 with 1 Axes>"
      ]
     },
     "metadata": {
      "needs_background": "light"
     },
     "output_type": "display_data"
    }
   ],
   "source": [
    "plt.plot(time[0:],sol[0:,2])\n"
   ]
  },
  {
   "cell_type": "code",
   "execution_count": 12,
   "metadata": {},
   "outputs": [
    {
     "data": {
      "text/plain": [
       "[<matplotlib.lines.Line2D at 0x276af5ffb80>]"
      ]
     },
     "execution_count": 12,
     "metadata": {},
     "output_type": "execute_result"
    },
    {
     "data": {
      "image/png": "[encoded data removed]",
      "text/plain": [
       "<Figure size 432x288 with 1 Axes>"
      ]
     },
     "metadata": {
      "needs_background": "light"
     },
     "output_type": "display_data"
    }
   ],
   "source": [
    "plt.plot(sol[0:,0],sol[0:,2])"
   ]
  },
  {
   "cell_type": "code",
   "execution_count": 13,
   "metadata": {},
   "outputs": [
    {
     "name": "stderr",
     "output_type": "stream",
     "text": [
      "C:\\ProgramData\\Anaconda3\\lib\\site-packages\\scipy\\integrate\\odepack.py:247: ODEintWarning: Excess work done on this call (perhaps wrong Dfun type). Run with full_output = 1 to get quantitative information.\n",
      "  warnings.warn(warning_msg, ODEintWarning)\n",
      "C:\\ProgramData\\Anaconda3\\lib\\site-packages\\scipy\\interpolate\\interpolate.py:684: RuntimeWarning: invalid value encountered in greater\n",
      "  above_bounds = x_new > self.x[-1]\n"
     ]
    }
   ],
   "source": [
    "# vel = np.linspace(73,87,50) # with wind\n",
    "# for ia in range (len(vel)):\n",
    "#     vsh = vel[ia]\n",
    "#     y0 = [0.0, vsh,H, 0]\n",
    "#     sol = odeint(dy_dt, y0, time, args=(a, b, vw))\n",
    "#     h = sol[1,2]\n",
    "#     k = 0\n",
    "#     while h > 0.:\n",
    "#         k += 1\n",
    "#         h = sol[k,2]\n",
    "#     k = k+10\n",
    "    \n",
    "#     fx = interp1d(sol[1:-1,2],sol[1:-1,0])\n",
    "#     ft = interp1d(sol[1:-1,2],time[1:-1])\n",
    "#     xsh = ft(0.)*vsh\n",
    "    \n",
    "    "
   ]
  },
  {
   "cell_type": "code",
   "execution_count": null,
   "metadata": {},
   "outputs": [],
   "source": []
  },
  {
   "cell_type": "code",
   "execution_count": null,
   "metadata": {},
   "outputs": [],
   "source": []
  },
  {
   "cell_type": "code",
   "execution_count": null,
   "metadata": {},
   "outputs": [],
   "source": []
  }
 ],
 "metadata": {
  "kernelspec": {
   "display_name": "Python 3",
   "language": "python",
   "name": "python3"
  },
  "language_info": {
   "codemirror_mode": {
    "name": "ipython",
    "version": 3
   },
   "file_extension": ".py",
   "mimetype": "text/x-python",
   "name": "python",
   "nbconvert_exporter": "python",
   "pygments_lexer": "ipython3",
   "version": "3.8.3"
  }
 },
 "nbformat": 4,
 "nbformat_minor": 4
}
